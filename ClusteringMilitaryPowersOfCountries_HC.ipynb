{
 "cells": [
  {
   "cell_type": "code",
   "execution_count": 63,
   "id": "baa4072e",
   "metadata": {},
   "outputs": [],
   "source": [
    "#World Military Powers "
   ]
  },
  {
   "cell_type": "code",
   "execution_count": 50,
   "id": "e0f2dd2c",
   "metadata": {},
   "outputs": [],
   "source": [
    "import pandas as pd\n",
    "import numpy as np\n",
    "import re\n",
    "import matplotlib.pyplot as plt"
   ]
  },
  {
   "cell_type": "code",
   "execution_count": 3,
   "id": "a2c7d4d5",
   "metadata": {},
   "outputs": [],
   "source": [
    "df = pd.read_excel(\"World military power.xlsx.xlsx\")\n",
    "#df = pd.read_csv(\"World military power.csv\", encoding=\"latin1\")"
   ]
  },
  {
   "cell_type": "code",
   "execution_count": 4,
   "id": "a3de3be5",
   "metadata": {},
   "outputs": [],
   "source": [
    "#pd.set_option('display.float_format', '{:.2f}'.format)\n",
    "#df.describe()"
   ]
  },
  {
   "cell_type": "code",
   "execution_count": 5,
   "id": "0bb93414",
   "metadata": {},
   "outputs": [
    {
     "data": {
      "text/html": [
       "<div>\n",
       "<style scoped>\n",
       "    .dataframe tbody tr th:only-of-type {\n",
       "        vertical-align: middle;\n",
       "    }\n",
       "\n",
       "    .dataframe tbody tr th {\n",
       "        vertical-align: top;\n",
       "    }\n",
       "\n",
       "    .dataframe thead th {\n",
       "        text-align: right;\n",
       "    }\n",
       "</style>\n",
       "<table border=\"1\" class=\"dataframe\">\n",
       "  <thead>\n",
       "    <tr style=\"text-align: right;\">\n",
       "      <th></th>\n",
       "      <th>2020 ranking</th>\n",
       "      <th>Unnamed: 1</th>\n",
       "      <th>Airforce Strength</th>\n",
       "      <th>Unnamed: 3</th>\n",
       "      <th>Unnamed: 4</th>\n",
       "      <th>Unnamed: 5</th>\n",
       "      <th>Unnamed: 6</th>\n",
       "      <th>Unnamed: 7</th>\n",
       "      <th>Unnamed: 8</th>\n",
       "      <th>Unnamed: 9</th>\n",
       "      <th>...</th>\n",
       "      <th>Unnamed: 50</th>\n",
       "      <th>Unnamed: 51</th>\n",
       "      <th>Geography</th>\n",
       "      <th>Unnamed: 53</th>\n",
       "      <th>Unnamed: 54</th>\n",
       "      <th>Unnamed: 55</th>\n",
       "      <th>Unnamed: 56</th>\n",
       "      <th>Unnamed: 57</th>\n",
       "      <th>Unnamed: 58</th>\n",
       "      <th>Unnamed: 59</th>\n",
       "    </tr>\n",
       "  </thead>\n",
       "  <tbody>\n",
       "    <tr>\n",
       "      <th>15</th>\n",
       "      <td>Bolivia</td>\n",
       "      <td>0.9942</td>\n",
       "      <td>Bolivia</td>\n",
       "      <td>69</td>\n",
       "      <td>Bolivia</td>\n",
       "      <td>0</td>\n",
       "      <td>Bolivia</td>\n",
       "      <td>0</td>\n",
       "      <td>Bolivia</td>\n",
       "      <td>14</td>\n",
       "      <td>...</td>\n",
       "      <td>Bolivia</td>\n",
       "      <td>1,13,06,341</td>\n",
       "      <td>Bolivia</td>\n",
       "      <td>10,98,581</td>\n",
       "      <td>NaN</td>\n",
       "      <td>NaN</td>\n",
       "      <td>Bolivia</td>\n",
       "      <td>10000</td>\n",
       "      <td>Bolivia</td>\n",
       "      <td>7252</td>\n",
       "    </tr>\n",
       "    <tr>\n",
       "      <th>87</th>\n",
       "      <td>Nigeria</td>\n",
       "      <td>0.6485</td>\n",
       "      <td>Nigeria</td>\n",
       "      <td>129</td>\n",
       "      <td>Nigeria</td>\n",
       "      <td>8</td>\n",
       "      <td>Nigeria</td>\n",
       "      <td>13</td>\n",
       "      <td>Nigeria</td>\n",
       "      <td>21</td>\n",
       "      <td>...</td>\n",
       "      <td>Nigeria</td>\n",
       "      <td>20,34,52,505</td>\n",
       "      <td>Nigeria</td>\n",
       "      <td>9,23,768</td>\n",
       "      <td>Nigeria</td>\n",
       "      <td>853</td>\n",
       "      <td>Nigeria</td>\n",
       "      <td>8600</td>\n",
       "      <td>Nigeria</td>\n",
       "      <td>4477</td>\n",
       "    </tr>\n",
       "    <tr>\n",
       "      <th>42</th>\n",
       "      <td>Gabon</td>\n",
       "      <td>3.3736</td>\n",
       "      <td>Gabon</td>\n",
       "      <td>23</td>\n",
       "      <td>Gabon</td>\n",
       "      <td>6</td>\n",
       "      <td>Gabon</td>\n",
       "      <td>0</td>\n",
       "      <td>Gabon</td>\n",
       "      <td>2</td>\n",
       "      <td>...</td>\n",
       "      <td>Gabon</td>\n",
       "      <td>21,19,036</td>\n",
       "      <td>Gabon</td>\n",
       "      <td>2,67,667</td>\n",
       "      <td>Gabon</td>\n",
       "      <td>885</td>\n",
       "      <td>Gabon</td>\n",
       "      <td>1600</td>\n",
       "      <td>Gabon</td>\n",
       "      <td>3261</td>\n",
       "    </tr>\n",
       "    <tr>\n",
       "      <th>86</th>\n",
       "      <td>Niger</td>\n",
       "      <td>2.0153</td>\n",
       "      <td>Niger</td>\n",
       "      <td>16</td>\n",
       "      <td>Niger</td>\n",
       "      <td>0</td>\n",
       "      <td>Niger</td>\n",
       "      <td>2</td>\n",
       "      <td>Niger</td>\n",
       "      <td>5</td>\n",
       "      <td>...</td>\n",
       "      <td>Niger</td>\n",
       "      <td>1,98,66,231</td>\n",
       "      <td>Niger</td>\n",
       "      <td>12,67,000</td>\n",
       "      <td>NaN</td>\n",
       "      <td>NaN</td>\n",
       "      <td>Niger</td>\n",
       "      <td>300</td>\n",
       "      <td>Niger</td>\n",
       "      <td>5834</td>\n",
       "    </tr>\n",
       "    <tr>\n",
       "      <th>47</th>\n",
       "      <td>Guatemala</td>\n",
       "      <td>1.8302</td>\n",
       "      <td>Guatemala</td>\n",
       "      <td>33</td>\n",
       "      <td>Guatemala</td>\n",
       "      <td>0</td>\n",
       "      <td>Guatemala</td>\n",
       "      <td>4</td>\n",
       "      <td>Guatemala</td>\n",
       "      <td>8</td>\n",
       "      <td>...</td>\n",
       "      <td>Guatemala</td>\n",
       "      <td>1,65,81,273</td>\n",
       "      <td>Guatemala</td>\n",
       "      <td>1,08,889</td>\n",
       "      <td>Guatemala</td>\n",
       "      <td>400</td>\n",
       "      <td>Guatemala</td>\n",
       "      <td>990</td>\n",
       "      <td>Guatemala</td>\n",
       "      <td>1667</td>\n",
       "    </tr>\n",
       "    <tr>\n",
       "      <th>...</th>\n",
       "      <td>...</td>\n",
       "      <td>...</td>\n",
       "      <td>...</td>\n",
       "      <td>...</td>\n",
       "      <td>...</td>\n",
       "      <td>...</td>\n",
       "      <td>...</td>\n",
       "      <td>...</td>\n",
       "      <td>...</td>\n",
       "      <td>...</td>\n",
       "      <td>...</td>\n",
       "      <td>...</td>\n",
       "      <td>...</td>\n",
       "      <td>...</td>\n",
       "      <td>...</td>\n",
       "      <td>...</td>\n",
       "      <td>...</td>\n",
       "      <td>...</td>\n",
       "      <td>...</td>\n",
       "      <td>...</td>\n",
       "      <td>...</td>\n",
       "    </tr>\n",
       "    <tr>\n",
       "      <th>68</th>\n",
       "      <td>Libya</td>\n",
       "      <td>1.3696</td>\n",
       "      <td>Libya</td>\n",
       "      <td>114</td>\n",
       "      <td>Libya</td>\n",
       "      <td>17</td>\n",
       "      <td>Libya</td>\n",
       "      <td>2</td>\n",
       "      <td>Libya</td>\n",
       "      <td>4</td>\n",
       "      <td>...</td>\n",
       "      <td>Libya</td>\n",
       "      <td>67,54,507</td>\n",
       "      <td>Libya</td>\n",
       "      <td>17,59,540</td>\n",
       "      <td>Libya</td>\n",
       "      <td>1770</td>\n",
       "      <td>Libya</td>\n",
       "      <td>0</td>\n",
       "      <td>Libya</td>\n",
       "      <td>4339</td>\n",
       "    </tr>\n",
       "    <tr>\n",
       "      <th>84</th>\n",
       "      <td>New Zealand</td>\n",
       "      <td>1.3684</td>\n",
       "      <td>New Zealand</td>\n",
       "      <td>48</td>\n",
       "      <td>New Zealand</td>\n",
       "      <td>0</td>\n",
       "      <td>New Zealand</td>\n",
       "      <td>0</td>\n",
       "      <td>New Zealand</td>\n",
       "      <td>7</td>\n",
       "      <td>...</td>\n",
       "      <td>New Zealand</td>\n",
       "      <td>45,45,627</td>\n",
       "      <td>New Zealand</td>\n",
       "      <td>2,67,710</td>\n",
       "      <td>New Zealand</td>\n",
       "      <td>15134</td>\n",
       "      <td>New Zealand</td>\n",
       "      <td>0</td>\n",
       "      <td>NaN</td>\n",
       "      <td>NaN</td>\n",
       "    </tr>\n",
       "    <tr>\n",
       "      <th>105</th>\n",
       "      <td>Sierra Leone</td>\n",
       "      <td>4.2063</td>\n",
       "      <td>Sierra Leone</td>\n",
       "      <td>5</td>\n",
       "      <td>Sierra Leone</td>\n",
       "      <td>0</td>\n",
       "      <td>Sierra Leone</td>\n",
       "      <td>0</td>\n",
       "      <td>Sierra Leone</td>\n",
       "      <td>0</td>\n",
       "      <td>...</td>\n",
       "      <td>Sierra Leone</td>\n",
       "      <td>63,12,212</td>\n",
       "      <td>Sierra Leone</td>\n",
       "      <td>71740</td>\n",
       "      <td>Sierra Leone</td>\n",
       "      <td>402</td>\n",
       "      <td>Sierra Leone</td>\n",
       "      <td>800</td>\n",
       "      <td>Sierra Leone</td>\n",
       "      <td>1093</td>\n",
       "    </tr>\n",
       "    <tr>\n",
       "      <th>133</th>\n",
       "      <td>Uzbekistan</td>\n",
       "      <td>0.8086</td>\n",
       "      <td>Uzbekistan</td>\n",
       "      <td>185</td>\n",
       "      <td>Uzbekistan</td>\n",
       "      <td>66</td>\n",
       "      <td>Uzbekistan</td>\n",
       "      <td>20</td>\n",
       "      <td>Uzbekistan</td>\n",
       "      <td>18</td>\n",
       "      <td>...</td>\n",
       "      <td>Uzbekistan</td>\n",
       "      <td>3,00,23,709</td>\n",
       "      <td>Uzbekistan</td>\n",
       "      <td>4,47,400</td>\n",
       "      <td>Uzbekistan</td>\n",
       "      <td>420</td>\n",
       "      <td>Uzbekistan</td>\n",
       "      <td>1100</td>\n",
       "      <td>Uzbekistan</td>\n",
       "      <td>6893</td>\n",
       "    </tr>\n",
       "    <tr>\n",
       "      <th>31</th>\n",
       "      <td>Czechia</td>\n",
       "      <td>0.5531</td>\n",
       "      <td>Czechia</td>\n",
       "      <td>95</td>\n",
       "      <td>Czechia</td>\n",
       "      <td>12</td>\n",
       "      <td>Czechia</td>\n",
       "      <td>16</td>\n",
       "      <td>Czechia</td>\n",
       "      <td>8</td>\n",
       "      <td>...</td>\n",
       "      <td>Czechia</td>\n",
       "      <td>1,06,86,269</td>\n",
       "      <td>Czechia</td>\n",
       "      <td>78867</td>\n",
       "      <td>NaN</td>\n",
       "      <td>NaN</td>\n",
       "      <td>Czechia</td>\n",
       "      <td>664</td>\n",
       "      <td>Czechia</td>\n",
       "      <td>2046</td>\n",
       "    </tr>\n",
       "  </tbody>\n",
       "</table>\n",
       "<p>100 rows × 60 columns</p>\n",
       "</div>"
      ],
      "text/plain": [
       "     2020 ranking Unnamed: 1 Airforce Strength Unnamed: 3    Unnamed: 4  \\\n",
       "15        Bolivia     0.9942           Bolivia         69       Bolivia   \n",
       "87        Nigeria     0.6485           Nigeria        129       Nigeria   \n",
       "42          Gabon     3.3736             Gabon         23         Gabon   \n",
       "86          Niger     2.0153             Niger         16         Niger   \n",
       "47      Guatemala     1.8302         Guatemala         33     Guatemala   \n",
       "..            ...        ...               ...        ...           ...   \n",
       "68          Libya     1.3696             Libya        114         Libya   \n",
       "84    New Zealand     1.3684       New Zealand         48   New Zealand   \n",
       "105  Sierra Leone     4.2063      Sierra Leone          5  Sierra Leone   \n",
       "133    Uzbekistan     0.8086        Uzbekistan        185    Uzbekistan   \n",
       "31        Czechia     0.5531           Czechia         95       Czechia   \n",
       "\n",
       "    Unnamed: 5    Unnamed: 6 Unnamed: 7    Unnamed: 8 Unnamed: 9  ...  \\\n",
       "15           0       Bolivia          0       Bolivia         14  ...   \n",
       "87           8       Nigeria         13       Nigeria         21  ...   \n",
       "42           6         Gabon          0         Gabon          2  ...   \n",
       "86           0         Niger          2         Niger          5  ...   \n",
       "47           0     Guatemala          4     Guatemala          8  ...   \n",
       "..         ...           ...        ...           ...        ...  ...   \n",
       "68          17         Libya          2         Libya          4  ...   \n",
       "84           0   New Zealand          0   New Zealand          7  ...   \n",
       "105          0  Sierra Leone          0  Sierra Leone          0  ...   \n",
       "133         66    Uzbekistan         20    Uzbekistan         18  ...   \n",
       "31          12       Czechia         16       Czechia          8  ...   \n",
       "\n",
       "      Unnamed: 50   Unnamed: 51     Geography Unnamed: 53   Unnamed: 54  \\\n",
       "15        Bolivia   1,13,06,341       Bolivia   10,98,581           NaN   \n",
       "87        Nigeria  20,34,52,505       Nigeria    9,23,768       Nigeria   \n",
       "42          Gabon     21,19,036         Gabon    2,67,667         Gabon   \n",
       "86          Niger   1,98,66,231         Niger   12,67,000           NaN   \n",
       "47      Guatemala   1,65,81,273     Guatemala    1,08,889     Guatemala   \n",
       "..            ...           ...           ...         ...           ...   \n",
       "68          Libya     67,54,507         Libya   17,59,540         Libya   \n",
       "84    New Zealand     45,45,627   New Zealand    2,67,710   New Zealand   \n",
       "105  Sierra Leone     63,12,212  Sierra Leone       71740  Sierra Leone   \n",
       "133    Uzbekistan   3,00,23,709    Uzbekistan    4,47,400    Uzbekistan   \n",
       "31        Czechia   1,06,86,269       Czechia       78867           NaN   \n",
       "\n",
       "    Unnamed: 55   Unnamed: 56 Unnamed: 57   Unnamed: 58 Unnamed: 59  \n",
       "15          NaN       Bolivia       10000       Bolivia        7252  \n",
       "87          853       Nigeria        8600       Nigeria        4477  \n",
       "42          885         Gabon        1600         Gabon        3261  \n",
       "86          NaN         Niger         300         Niger        5834  \n",
       "47          400     Guatemala         990     Guatemala        1667  \n",
       "..          ...           ...         ...           ...         ...  \n",
       "68         1770         Libya           0         Libya        4339  \n",
       "84        15134   New Zealand           0           NaN         NaN  \n",
       "105         402  Sierra Leone         800  Sierra Leone        1093  \n",
       "133         420    Uzbekistan        1100    Uzbekistan        6893  \n",
       "31          NaN       Czechia         664       Czechia        2046  \n",
       "\n",
       "[100 rows x 60 columns]"
      ]
     },
     "execution_count": 5,
     "metadata": {},
     "output_type": "execute_result"
    }
   ],
   "source": [
    "df.sample(100)"
   ]
  },
  {
   "cell_type": "code",
   "execution_count": 6,
   "id": "5f183eb5",
   "metadata": {},
   "outputs": [],
   "source": [
    "pd.set_option('display.max_columns', None)"
   ]
  },
  {
   "cell_type": "code",
   "execution_count": 7,
   "id": "61350db6",
   "metadata": {},
   "outputs": [],
   "source": [
    "#assign correct column names \n",
    "col2 = df.iloc[0][:]\n",
    "df.columns = col2"
   ]
  },
  {
   "cell_type": "code",
   "execution_count": 8,
   "id": "a0d6d2d4",
   "metadata": {},
   "outputs": [],
   "source": [
    "df.columns = (df.columns).str.lower()"
   ]
  },
  {
   "cell_type": "code",
   "execution_count": 9,
   "id": "139dd18d",
   "metadata": {},
   "outputs": [],
   "source": [
    "#delete the first row , avoid repeating \n",
    "df.drop(index=df.index[0], axis=0, inplace=True)"
   ]
  },
  {
   "cell_type": "code",
   "execution_count": 10,
   "id": "b8dd972f",
   "metadata": {},
   "outputs": [],
   "source": [
    "df.fillna(0, inplace=True)"
   ]
  },
  {
   "cell_type": "code",
   "execution_count": 11,
   "id": "f88b0773",
   "metadata": {},
   "outputs": [
    {
     "data": {
      "text/plain": [
       "0\n",
       "military strength                          0\n",
       "military strength power index              0\n",
       "aircraft strength                          0\n",
       "aircraft strength value                    0\n",
       "fighter/interceptor strength               0\n",
       "fighter/interceptor strength value         0\n",
       "attack aircraft strength                   0\n",
       "attack aircraft strength value             0\n",
       "transport aircraft fleet strength          0\n",
       "transport aircraft fleet strength value    0\n",
       "trainer aircraft fleet                     0\n",
       "trainer aircraft fleet value               0\n",
       "helicopter fleet strength                  0\n",
       "helicopter fleet strength value            0\n",
       "attack helicopter fleet strength           0\n",
       "attack helicopter fleet strength value     0\n",
       "tank strength                              0\n",
       "tank strength value                        0\n",
       "afv/apc strength                           0\n",
       "afv/apc strength value                     0\n",
       "self-propelled artillery strength          0\n",
       "self-propelled artillery strength value    0\n",
       "towed artillery strength                   0\n",
       "towed artillery strength value             0\n",
       "rocket projector strength                  0\n",
       "rocket projector strength value            0\n",
       "navy fleet strengths                       0\n",
       "navy fleet strengths value                 0\n",
       "aircraft carrier fleet strength            0\n",
       "aircraft carrier fleet strength value      0\n",
       "submarine fleet strength                   0\n",
       "submarine fleet strength value             0\n",
       "destroyer fleet strength                   0\n",
       "destroyer fleet strength value             0\n",
       "frigate fleet strength                     0\n",
       "frigate fleet strength value               0\n",
       "defense spending budget                    0\n",
       "defense spending budget value              0\n",
       "external debt                              0\n",
       "external debt value                        0\n",
       "airport totals                             0\n",
       "airport totals value                       0\n",
       "oil production                             0\n",
       "oil production value                       0\n",
       "oil consumption                            0\n",
       "oil consumption value                      0\n",
       "proven oil reserves                        0\n",
       "proven oil reserves value                  0\n",
       "available manpower                         0\n",
       "available manpower value                   0\n",
       "total population                           0\n",
       "total population value                     0\n",
       "total square land area                     0\n",
       "total square land area value               0\n",
       "total coastline coverage                   0\n",
       "total coastline coverage value             0\n",
       "total waterway coverage                    0\n",
       "total waterway coverage value              0\n",
       "total border coverage                      0\n",
       "total border coverage value                0\n",
       "dtype: int64"
      ]
     },
     "execution_count": 11,
     "metadata": {},
     "output_type": "execute_result"
    }
   ],
   "source": [
    "df.isnull().sum()"
   ]
  },
  {
   "cell_type": "code",
   "execution_count": 42,
   "id": "dae3c6e8",
   "metadata": {},
   "outputs": [
    {
     "name": "stdout",
     "output_type": "stream",
     "text": [
      "<class 'pandas.core.frame.DataFrame'>\n",
      "RangeIndex: 138 entries, 1 to 138\n",
      "Data columns (total 30 columns):\n",
      " #   Column                                   Non-Null Count  Dtype  \n",
      "---  ------                                   --------------  -----  \n",
      " 0   military strength power index            138 non-null    float64\n",
      " 1   aircraft strength value                  138 non-null    int32  \n",
      " 2   fighter/interceptor strength value       138 non-null    int32  \n",
      " 3   attack aircraft strength value           138 non-null    int32  \n",
      " 4   transport aircraft fleet strength value  138 non-null    int32  \n",
      " 5   trainer aircraft fleet value             138 non-null    int32  \n",
      " 6   helicopter fleet strength value          138 non-null    int32  \n",
      " 7   attack helicopter fleet strength value   138 non-null    int32  \n",
      " 8   tank strength value                      138 non-null    int32  \n",
      " 9   afv/apc strength value                   138 non-null    int32  \n",
      " 10  self-propelled artillery strength value  138 non-null    int32  \n",
      " 11  towed artillery strength value           138 non-null    int32  \n",
      " 12  rocket projector strength value          138 non-null    int32  \n",
      " 13  navy fleet strengths value               138 non-null    float64\n",
      " 14  aircraft carrier fleet strength value    138 non-null    float64\n",
      " 15  submarine fleet strength value           138 non-null    float64\n",
      " 16  destroyer fleet strength value           138 non-null    float64\n",
      " 17  frigate fleet strength value             138 non-null    float64\n",
      " 18  defense spending budget value            138 non-null    float64\n",
      " 19  external debt value                      138 non-null    float64\n",
      " 20  airport totals value                     138 non-null    int32  \n",
      " 21  oil production value                     138 non-null    float64\n",
      " 22  oil consumption value                    138 non-null    float64\n",
      " 23  proven oil reserves value                138 non-null    float64\n",
      " 24  available manpower value                 138 non-null    float64\n",
      " 25  total population value                   138 non-null    float64\n",
      " 26  total square land area value             138 non-null    float64\n",
      " 27  total coastline coverage value           138 non-null    float64\n",
      " 28  total waterway coverage value            138 non-null    float64\n",
      " 29  total border coverage value              138 non-null    int64  \n",
      "dtypes: float64(16), int32(13), int64(1)\n",
      "memory usage: 25.5 KB\n"
     ]
    }
   ],
   "source": [
    "df.info()"
   ]
  },
  {
   "cell_type": "code",
   "execution_count": null,
   "id": "185b6a8b",
   "metadata": {},
   "outputs": [],
   "source": []
  },
  {
   "cell_type": "code",
   "execution_count": 13,
   "id": "4ac87e3b",
   "metadata": {},
   "outputs": [],
   "source": [
    "#df.columns = (df.columns).str.replace(' ','')"
   ]
  },
  {
   "cell_type": "code",
   "execution_count": 14,
   "id": "94e2bbd8",
   "metadata": {},
   "outputs": [],
   "source": [
    "# convert type of object to float\n",
    "df['military strength power index']= df['military strength power index'].astype(float)"
   ]
  },
  {
   "cell_type": "code",
   "execution_count": 15,
   "id": "01c222eb",
   "metadata": {
    "scrolled": true
   },
   "outputs": [
    {
     "name": "stdout",
     "output_type": "stream",
     "text": [
      "military strength power index\n",
      "aircraft strength value\n",
      "fighter/interceptor strength value\n",
      "attack aircraft strength value\n",
      "transport aircraft fleet strength value\n",
      "trainer aircraft fleet value\n",
      "helicopter fleet strength value\n",
      "attack helicopter fleet strength value\n",
      "tank strength value\n",
      "afv/apc strength value\n",
      "self-propelled artillery strength value\n",
      "towed artillery strength value\n",
      "rocket projector strength value\n",
      "navy fleet strengths value\n",
      "aircraft carrier fleet strength value\n",
      "submarine fleet strength value\n",
      "destroyer fleet strength value\n",
      "frigate fleet strength value\n",
      "defense spending budget value\n",
      "external debt value\n",
      "airport totals value\n",
      "oil production value\n",
      "oil consumption value\n",
      "proven oil reserves value\n",
      "available manpower value\n",
      "total population value\n",
      "total square land area value\n",
      "total coastline coverage value\n",
      "total waterway coverage value\n",
      "total border coverage value\n"
     ]
    }
   ],
   "source": [
    "del_col = [];\n",
    "for col_nm in df.columns :\n",
    "    splt_col_nm = col_nm.split()\n",
    "    #print(splt_col_nm[-1])\n",
    "    #print(col_nm)\n",
    "    if (splt_col_nm[-1] == 'index') or (splt_col_nm[-1] == 'value') :\n",
    "        print(col_nm)\n",
    "    else:\n",
    "        del_col.append(col_nm)\n",
    "\n",
    "#df = df.drop('column_name', axis=1)\n",
    "df.drop(del_col, axis=1, inplace=True)        "
   ]
  },
  {
   "cell_type": "code",
   "execution_count": 16,
   "id": "535a586e",
   "metadata": {},
   "outputs": [],
   "source": [
    "df['aircraft strength value']= df['aircraft strength value'].astype(int)\n",
    "df['fighter/interceptor strength value']= df['fighter/interceptor strength value'].astype(int)\n",
    "df['attack aircraft strength value']= df['attack aircraft strength value'].astype(int)\n",
    "df['transport aircraft fleet strength value']= df['transport aircraft fleet strength value'].astype(int)\n",
    "df['trainer aircraft fleet value']= df['trainer aircraft fleet value'].astype(int)\n",
    "df['helicopter fleet strength value'] = df['helicopter fleet strength value'].astype(int)\n",
    "df[['attack helicopter fleet strength value', 'tank strength value'] ] = df[['attack helicopter fleet strength value','tank strength value'] ].astype(int)\n",
    "df[['afv/apc strength value', 'self-propelled artillery strength value',\n",
    "       'towed artillery strength value', 'rocket projector strength value']] = df[['afv/apc strength value', 'self-propelled artillery strength value',\n",
    "       'towed artillery strength value', 'rocket projector strength value']].astype(int)"
   ]
  },
  {
   "cell_type": "code",
   "execution_count": 17,
   "id": "546f3037",
   "metadata": {},
   "outputs": [
    {
     "data": {
      "text/plain": [
       "0\n",
       "military strength power index              0\n",
       "aircraft strength value                    0\n",
       "fighter/interceptor strength value         0\n",
       "attack aircraft strength value             0\n",
       "transport aircraft fleet strength value    0\n",
       "trainer aircraft fleet value               0\n",
       "helicopter fleet strength value            0\n",
       "attack helicopter fleet strength value     0\n",
       "tank strength value                        0\n",
       "afv/apc strength value                     0\n",
       "self-propelled artillery strength value    0\n",
       "towed artillery strength value             0\n",
       "rocket projector strength value            0\n",
       "navy fleet strengths value                 0\n",
       "aircraft carrier fleet strength value      0\n",
       "submarine fleet strength value             0\n",
       "destroyer fleet strength value             0\n",
       "frigate fleet strength value               0\n",
       "defense spending budget value              0\n",
       "external debt value                        0\n",
       "airport totals value                       0\n",
       "oil production value                       0\n",
       "oil consumption value                      0\n",
       "proven oil reserves value                  0\n",
       "available manpower value                   0\n",
       "total population value                     0\n",
       "total square land area value               0\n",
       "total coastline coverage value             0\n",
       "total waterway coverage value              0\n",
       "total border coverage value                0\n",
       "dtype: int64"
      ]
     },
     "execution_count": 17,
     "metadata": {},
     "output_type": "execute_result"
    }
   ],
   "source": [
    "df.isnull().sum()"
   ]
  },
  {
   "cell_type": "code",
   "execution_count": 18,
   "id": "3da31870",
   "metadata": {},
   "outputs": [],
   "source": [
    "df.columns= df.columns.str.strip().str.lower()\n"
   ]
  },
  {
   "cell_type": "code",
   "execution_count": 19,
   "id": "882d98cc",
   "metadata": {},
   "outputs": [],
   "source": [
    "df['oil consumption value']= df['oil consumption value'].astype(str)\n",
    "df['defense spending budget value'] = df['defense spending budget value'].str.replace(',','')\n",
    "df['defense spending budget value']= df['defense spending budget value'].astype(float)"
   ]
  },
  {
   "cell_type": "code",
   "execution_count": 20,
   "id": "b0dfbdb2",
   "metadata": {},
   "outputs": [],
   "source": [
    "df['oil consumption value']= df['oil consumption value'].astype(str)\n",
    "df['external debt value'] = df['external debt value'].str.replace(',','')\n",
    "df['external debt value']= df['external debt value'].astype(float)"
   ]
  },
  {
   "cell_type": "code",
   "execution_count": 21,
   "id": "30cdcb9a",
   "metadata": {
    "scrolled": true
   },
   "outputs": [],
   "source": [
    "df['airport totals value']= df['airport totals value'].astype(int)"
   ]
  },
  {
   "cell_type": "code",
   "execution_count": 22,
   "id": "f83f5a53",
   "metadata": {},
   "outputs": [
    {
     "data": {
      "text/plain": [
       "0\n",
       "military strength power index                0\n",
       "aircraft strength value                      2\n",
       "fighter/interceptor strength value          46\n",
       "attack aircraft strength value              75\n",
       "transport aircraft fleet strength value     15\n",
       "trainer aircraft fleet value                25\n",
       "helicopter fleet strength value              2\n",
       "attack helicopter fleet strength value      63\n",
       "tank strength value                         24\n",
       "afv/apc strength value                       1\n",
       "self-propelled artillery strength value     52\n",
       "towed artillery strength value              24\n",
       "rocket projector strength value             46\n",
       "navy fleet strengths value                  28\n",
       "aircraft carrier fleet strength value      125\n",
       "submarine fleet strength value              97\n",
       "destroyer fleet strength value             126\n",
       "frigate fleet strength value                84\n",
       "defense spending budget value                0\n",
       "external debt value                          0\n",
       "airport totals value                         0\n",
       "oil production value                        46\n",
       "oil consumption value                        0\n",
       "proven oil reserves value                   46\n",
       "available manpower value                     0\n",
       "total population value                       0\n",
       "total square land area value                 0\n",
       "total coastline coverage value              30\n",
       "total waterway coverage value               38\n",
       "total border coverage value                  9\n",
       "dtype: int64"
      ]
     },
     "execution_count": 22,
     "metadata": {},
     "output_type": "execute_result"
    }
   ],
   "source": [
    "#df['oil production value'] = df['oil production value'].str.replace(',','')\n",
    "#df['oil production value']= df['oil production value'].astype(float)\n",
    "(df == 0).sum()"
   ]
  },
  {
   "cell_type": "code",
   "execution_count": 23,
   "id": "790e27db",
   "metadata": {},
   "outputs": [],
   "source": [
    "# values are mixed as str and int. so convert the column to string\n",
    "\n",
    "df['oil consumption value']= df['oil consumption value'].astype(str)\n",
    "df['oil consumption value'] = df['oil consumption value'].str.replace(',','')\n",
    "df['oil consumption value']= df['oil consumption value'].astype(float)\n"
   ]
  },
  {
   "cell_type": "code",
   "execution_count": 24,
   "id": "ef165287",
   "metadata": {},
   "outputs": [],
   "source": [
    "df['oil production value']= df['oil production value'].astype(str)\n",
    "df['oil production value'] = df['oil production value'].str.replace(',','')\n",
    "df['oil production value']= df['oil production value'].astype(float)"
   ]
  },
  {
   "cell_type": "code",
   "execution_count": 25,
   "id": "fad99483",
   "metadata": {},
   "outputs": [],
   "source": [
    "str_col = 'proven oil reserves value'\n",
    "df[str_col]= df[str_col].astype(str)\n",
    "df[str_col] = df[str_col].str.replace(',','')\n",
    "df[str_col]= df[str_col].astype(float)"
   ]
  },
  {
   "cell_type": "code",
   "execution_count": 26,
   "id": "4c7cdb4d",
   "metadata": {},
   "outputs": [],
   "source": [
    "str_col = 'available manpower value'\n",
    "df[str_col]= df[str_col].astype(str)\n",
    "df[str_col] = df[str_col].str.replace(',','')\n",
    "df[str_col]= df[str_col].astype(float)\n"
   ]
  },
  {
   "cell_type": "code",
   "execution_count": 27,
   "id": "4e80b628",
   "metadata": {},
   "outputs": [],
   "source": [
    "str_col = 'total population value'\n",
    "df[str_col]= df[str_col].astype(str)\n",
    "df[str_col] = df[str_col].str.replace(',','')\n",
    "df[str_col]= df[str_col].astype(float)"
   ]
  },
  {
   "cell_type": "code",
   "execution_count": 28,
   "id": "e1d46228",
   "metadata": {},
   "outputs": [],
   "source": [
    "str_col = 'total square land area value'\n",
    "df[str_col]= df[str_col].astype(str)\n",
    "df[str_col] = df[str_col].str.replace(',','')\n",
    "df[str_col]= df[str_col].astype(float)\n"
   ]
  },
  {
   "cell_type": "code",
   "execution_count": 29,
   "id": "feeb2f6b",
   "metadata": {},
   "outputs": [],
   "source": [
    "str_col = 'total waterway coverage value'\n",
    "df[str_col]= df[str_col].astype(str)\n",
    "df[str_col] = df[str_col].str.replace(',','')\n",
    "df[str_col]= df[str_col].astype(float)"
   ]
  },
  {
   "cell_type": "code",
   "execution_count": 30,
   "id": "253e3d11",
   "metadata": {},
   "outputs": [],
   "source": [
    "# Null elementlerin tahmini\n",
    "#Veri miktrari az oldugundan regresyon ile tahmin etmeye gerek duymadim. \n"
   ]
  },
  {
   "cell_type": "code",
   "execution_count": 31,
   "id": "8d5db77c",
   "metadata": {},
   "outputs": [],
   "source": [
    "#average ile doldurulacak sutun\n",
    "col_avg = 'navy fleet strengths value'\n",
    "\n",
    "#df[col_avg]= df[col_avg].astype(str)\n",
    "#df[col_avg] = df[col_avg].str.replace('\\D', '', regex=True)\n",
    "nan_index = df.loc[pd.isna(df[col_avg]), :].index\n",
    "df2 = df.drop(nan_index)\n",
    "df2[col_avg] = df2[col_avg].astype(int)\n",
    "df[col_avg] = df[col_avg].fillna( ( df2[col_avg].mean() ) )\n",
    "df[col_avg] = df[col_avg].astype(float)\n"
   ]
  },
  {
   "cell_type": "code",
   "execution_count": 32,
   "id": "ba4c19fe",
   "metadata": {},
   "outputs": [],
   "source": [
    "col_avg = 'aircraft carrier fleet strength value'\n",
    "\n",
    "#df[col_avg]= df[col_avg].astype(str)\n",
    "#df[col_avg] = df[col_avg].str.replace('\\D', '', regex=True)\n",
    "nan_index = df.loc[pd.isna(df[col_avg]), :].index\n",
    "df2 = df.drop(nan_index)\n",
    "df2[col_avg] = df2[col_avg].astype(int)\n",
    "df[col_avg] = df[col_avg].fillna( ( df2[col_avg].mean() ) )\n",
    "df[col_avg] = df[col_avg].astype(float)"
   ]
  },
  {
   "cell_type": "code",
   "execution_count": 33,
   "id": "23c4f6f1",
   "metadata": {},
   "outputs": [],
   "source": [
    "col_avg = 'submarine fleet strength value'\n",
    "\n",
    "#df[col_avg]= df[col_avg].astype(str)\n",
    "#df[col_avg] = df[col_avg].str.replace('\\D', '', regex=True)\n",
    "nan_index = df.loc[pd.isna(df[col_avg]), :].index\n",
    "df2 = df.drop(nan_index)\n",
    "df2[col_avg] = df2[col_avg].astype(int)\n",
    "df[col_avg] = df[col_avg].fillna( ( df2[col_avg].mean() ) )\n",
    "df[col_avg] = df[col_avg].astype(float)\n"
   ]
  },
  {
   "cell_type": "code",
   "execution_count": 34,
   "id": "727f9c7b",
   "metadata": {},
   "outputs": [],
   "source": [
    "col_avg = 'destroyer fleet strength value'\n",
    "\n",
    "#df[col_avg]= df[col_avg].astype(str)\n",
    "#df[col_avg] = df[col_avg].str.replace('\\D', '', regex=True)\n",
    "nan_index = df.loc[pd.isna(df[col_avg]), :].index\n",
    "df2 = df.drop(nan_index)\n",
    "df2[col_avg] = df2[col_avg].astype(int)\n",
    "df[col_avg] = df[col_avg].fillna( ( df2[col_avg].mean() ) )\n",
    "df[col_avg] = df[col_avg].astype(float)\n"
   ]
  },
  {
   "cell_type": "code",
   "execution_count": 35,
   "id": "3e833b7c",
   "metadata": {},
   "outputs": [],
   "source": [
    "col_avg = 'frigate fleet strength value'\n",
    "\n",
    "#df[col_avg]= df[col_avg].astype(str)\n",
    "#df[col_avg] = df[col_avg].str.replace('\\D', '', regex=True)\n",
    "nan_index = df.loc[pd.isna(df[col_avg]), :].index\n",
    "df2 = df.drop(nan_index)\n",
    "df2[col_avg] = df2[col_avg].astype(int)\n",
    "df[col_avg] = df[col_avg].fillna( ( df2[col_avg].mean() ) )\n",
    "df[col_avg] = df[col_avg].astype(float)\n"
   ]
  },
  {
   "cell_type": "code",
   "execution_count": 36,
   "id": "8c765a47",
   "metadata": {},
   "outputs": [],
   "source": [
    "col_avg = 'total coastline coverage value'\n",
    "#for num in df[col_avg] :\n",
    "#    print(num)\n",
    "#    print(\"{} {}\".format(num,type(num)))\n",
    "    #print(type(num))\n",
    "    #if num != np.nan :\n",
    "    #    print(num)\n",
    "#mylist = [];    \n",
    "#for index, row in df.iterrows():\n",
    "#    if row[col_avg] == '2,02,080':\n",
    "#        print(row[col_avg])\n",
    "#    #mylist.append(row[col_avg])\n",
    "#print(mylist)\n",
    "#df['total coastline coverage value'] = mylist"
   ]
  },
  {
   "cell_type": "code",
   "execution_count": 37,
   "id": "78255c20",
   "metadata": {},
   "outputs": [],
   "source": [
    "#print(mylist)"
   ]
  },
  {
   "cell_type": "code",
   "execution_count": 38,
   "id": "f1c6ea2c",
   "metadata": {},
   "outputs": [],
   "source": [
    "# first obtain non-null rows from the column. \n",
    "# then convert the column to string because there could be integer type columns\n",
    "# then clean , from column so that it can be converted to number\n",
    "# fill the null elementns with basic statistical values\n",
    "\n",
    "col_avg = 'total coastline coverage value'\n",
    "#df[col_avg] = df[col_avg].str.replace(' ','')\n",
    "df[col_avg] = df[col_avg].astype(str)\n",
    "\n",
    "nan_index = df.loc[pd.isna(df[col_avg]), :].index\n",
    "df2 = df.drop(nan_index)\n",
    "df2[col_avg]= df2[col_avg].astype(str)\n",
    "df2[col_avg] = df2[col_avg].str.replace(\"'\",'')\n",
    "df2[col_avg] = df2[col_avg].str.replace(',','')\n",
    "df2[col_avg] = df2[col_avg].astype(float)\n",
    "#df2[col_avg].mean()\n",
    "\n",
    "\n",
    "\n"
   ]
  },
  {
   "cell_type": "code",
   "execution_count": 39,
   "id": "942af2bb",
   "metadata": {},
   "outputs": [
    {
     "data": {
      "text/plain": [
       "1         0\n",
       "2       362\n",
       "3       998\n",
       "4      1600\n",
       "5      4989\n",
       "       ... \n",
       "134    2800\n",
       "135    3444\n",
       "136    1906\n",
       "137       0\n",
       "138       0\n",
       "Name: total coastline coverage value, Length: 138, dtype: object"
      ]
     },
     "execution_count": 39,
     "metadata": {},
     "output_type": "execute_result"
    }
   ],
   "source": [
    "df[col_avg]"
   ]
  },
  {
   "cell_type": "code",
   "execution_count": 40,
   "id": "c92512a1",
   "metadata": {},
   "outputs": [],
   "source": [
    "#df2[col_avg] = df2[col_avg].str.replace('\\D', '', regex=True)\n",
    "#df[col_avg] = df[col_avg].str.replace(',',\"\")\n",
    "#df2[col_avg] = df2[col_avg].astype(int)\n",
    "df[col_avg] = df[col_avg].fillna( ( df2[col_avg].mean() ) )\n",
    "df[col_avg] = df[col_avg].astype(float)"
   ]
  },
  {
   "cell_type": "code",
   "execution_count": null,
   "id": "4057f673",
   "metadata": {},
   "outputs": [],
   "source": [
    "#classification "
   ]
  },
  {
   "cell_type": "code",
   "execution_count": 43,
   "id": "694dcc4c",
   "metadata": {},
   "outputs": [],
   "source": [
    "from sklearn.cluster import KMeans\n",
    "from sklearn.metrics import silhouette_score"
   ]
  },
  {
   "cell_type": "code",
   "execution_count": 44,
   "id": "aaa94dba",
   "metadata": {},
   "outputs": [],
   "source": [
    "\n",
    "x = df;"
   ]
  },
  {
   "cell_type": "code",
   "execution_count": 52,
   "id": "89716001",
   "metadata": {},
   "outputs": [
    {
     "name": "stderr",
     "output_type": "stream",
     "text": [
      "C:\\ProgramData\\anaconda3\\lib\\site-packages\\sklearn\\cluster\\_kmeans.py:870: FutureWarning: The default value of `n_init` will change from 10 to 'auto' in 1.4. Set the value of `n_init` explicitly to suppress the warning\n",
      "  warnings.warn(\n",
      "C:\\ProgramData\\anaconda3\\lib\\site-packages\\sklearn\\cluster\\_kmeans.py:1382: UserWarning: KMeans is known to have a memory leak on Windows with MKL, when there are less chunks than available threads. You can avoid it by setting the environment variable OMP_NUM_THREADS=1.\n",
      "  warnings.warn(\n"
     ]
    }
   ],
   "source": [
    "model = KMeans(4)\n",
    "model = model.fit(x)"
   ]
  },
  {
   "cell_type": "code",
   "execution_count": 53,
   "id": "257f0bad",
   "metadata": {},
   "outputs": [],
   "source": [
    "tahmin = model.predict(x)"
   ]
  },
  {
   "cell_type": "code",
   "execution_count": 54,
   "id": "9e705f0a",
   "metadata": {},
   "outputs": [
    {
     "data": {
      "text/plain": [
       "array([0, 0, 0, 0, 0, 0, 3, 0, 0, 0, 0, 0, 3, 0, 0, 0, 0, 0, 0, 0, 0, 0,\n",
       "       3, 0, 0, 0, 3, 0, 0, 0, 0, 0, 0, 0, 0, 0, 0, 0, 0, 0, 2, 0, 0, 2,\n",
       "       0, 0, 0, 0, 0, 0, 0, 0, 0, 3, 0, 3, 0, 3, 0, 0, 0, 0, 0, 0, 0, 0,\n",
       "       0, 0, 0, 0, 0, 0, 0, 0, 0, 0, 0, 0, 0, 0, 0, 0, 2, 0, 0, 0, 0, 0,\n",
       "       0, 0, 0, 0, 0, 0, 0, 0, 0, 0, 0, 0, 0, 0, 0, 0, 0, 0, 0, 0, 0, 0,\n",
       "       0, 0, 3, 0, 0, 0, 0, 3, 0, 0, 0, 0, 0, 0, 0, 0, 0, 0, 0, 2, 1, 0,\n",
       "       0, 0, 0, 0, 0, 0])"
      ]
     },
     "execution_count": 54,
     "metadata": {},
     "output_type": "execute_result"
    }
   ],
   "source": [
    "tahmin"
   ]
  },
  {
   "cell_type": "code",
   "execution_count": 55,
   "id": "e1747763",
   "metadata": {},
   "outputs": [],
   "source": [
    "x['cluster'] = tahmin"
   ]
  },
  {
   "cell_type": "code",
   "execution_count": 56,
   "id": "fc9ab1d5",
   "metadata": {},
   "outputs": [
    {
     "data": {
      "text/plain": [
       "<matplotlib.collections.PathCollection at 0x282d5c65c60>"
      ]
     },
     "execution_count": 56,
     "metadata": {},
     "output_type": "execute_result"
    },
    {
     "data": {
      "image/png": "[encoded data removed]",
      "text/plain": [
       "<Figure size 640x480 with 1 Axes>"
      ]
     },
     "metadata": {},
     "output_type": "display_data"
    }
   ],
   "source": [
    "plt.figure()\n",
    "plt.scatter(x['military strength power index'], x[\"total population value\"], c = tahmin)"
   ]
  },
  {
   "cell_type": "code",
   "execution_count": 57,
   "id": "9ae2fbfa",
   "metadata": {},
   "outputs": [],
   "source": [
    "allscore= []\n",
    "allclusters = []\n",
    "distances = []\n",
    "def clust(kactane):\n",
    "    for i in range(1,kactane):\n",
    "        i = i+1\n",
    "        model   = KMeans(i)\n",
    "        model   = model.fit(x)\n",
    "        tahmin  = model.predict(x)\n",
    "        score   = silhouette_score(x,tahmin)\n",
    "        distance = model.inertia_\n",
    "        print('cluster ',i,\" score: \", score)\n",
    "        allscore.append(score) \n",
    "        allclusters.append(i)\n",
    "        distances.append(distance)\n",
    "        "
   ]
  },
  {
   "cell_type": "code",
   "execution_count": 58,
   "id": "f44fe06b",
   "metadata": {},
   "outputs": [
    {
     "name": "stderr",
     "output_type": "stream",
     "text": [
      "C:\\ProgramData\\anaconda3\\lib\\site-packages\\sklearn\\cluster\\_kmeans.py:870: FutureWarning: The default value of `n_init` will change from 10 to 'auto' in 1.4. Set the value of `n_init` explicitly to suppress the warning\n",
      "  warnings.warn(\n",
      "C:\\ProgramData\\anaconda3\\lib\\site-packages\\sklearn\\cluster\\_kmeans.py:1382: UserWarning: KMeans is known to have a memory leak on Windows with MKL, when there are less chunks than available threads. You can avoid it by setting the environment variable OMP_NUM_THREADS=1.\n",
      "  warnings.warn(\n"
     ]
    },
    {
     "name": "stdout",
     "output_type": "stream",
     "text": [
      "cluster  2  score:  0.9227153206136329\n"
     ]
    },
    {
     "name": "stderr",
     "output_type": "stream",
     "text": [
      "C:\\ProgramData\\anaconda3\\lib\\site-packages\\sklearn\\cluster\\_kmeans.py:870: FutureWarning: The default value of `n_init` will change from 10 to 'auto' in 1.4. Set the value of `n_init` explicitly to suppress the warning\n",
      "  warnings.warn(\n",
      "C:\\ProgramData\\anaconda3\\lib\\site-packages\\sklearn\\cluster\\_kmeans.py:1382: UserWarning: KMeans is known to have a memory leak on Windows with MKL, when there are less chunks than available threads. You can avoid it by setting the environment variable OMP_NUM_THREADS=1.\n",
      "  warnings.warn(\n"
     ]
    },
    {
     "name": "stdout",
     "output_type": "stream",
     "text": [
      "cluster  3  score:  0.8995442950361631\n"
     ]
    },
    {
     "name": "stderr",
     "output_type": "stream",
     "text": [
      "C:\\ProgramData\\anaconda3\\lib\\site-packages\\sklearn\\cluster\\_kmeans.py:870: FutureWarning: The default value of `n_init` will change from 10 to 'auto' in 1.4. Set the value of `n_init` explicitly to suppress the warning\n",
      "  warnings.warn(\n",
      "C:\\ProgramData\\anaconda3\\lib\\site-packages\\sklearn\\cluster\\_kmeans.py:1382: UserWarning: KMeans is known to have a memory leak on Windows with MKL, when there are less chunks than available threads. You can avoid it by setting the environment variable OMP_NUM_THREADS=1.\n",
      "  warnings.warn(\n"
     ]
    },
    {
     "name": "stdout",
     "output_type": "stream",
     "text": [
      "cluster  4  score:  0.8671436271439987\n"
     ]
    },
    {
     "name": "stderr",
     "output_type": "stream",
     "text": [
      "C:\\ProgramData\\anaconda3\\lib\\site-packages\\sklearn\\cluster\\_kmeans.py:870: FutureWarning: The default value of `n_init` will change from 10 to 'auto' in 1.4. Set the value of `n_init` explicitly to suppress the warning\n",
      "  warnings.warn(\n",
      "C:\\ProgramData\\anaconda3\\lib\\site-packages\\sklearn\\cluster\\_kmeans.py:1382: UserWarning: KMeans is known to have a memory leak on Windows with MKL, when there are less chunks than available threads. You can avoid it by setting the environment variable OMP_NUM_THREADS=1.\n",
      "  warnings.warn(\n"
     ]
    },
    {
     "name": "stdout",
     "output_type": "stream",
     "text": [
      "cluster  5  score:  0.8675195540746111\n"
     ]
    },
    {
     "name": "stderr",
     "output_type": "stream",
     "text": [
      "C:\\ProgramData\\anaconda3\\lib\\site-packages\\sklearn\\cluster\\_kmeans.py:870: FutureWarning: The default value of `n_init` will change from 10 to 'auto' in 1.4. Set the value of `n_init` explicitly to suppress the warning\n",
      "  warnings.warn(\n",
      "C:\\ProgramData\\anaconda3\\lib\\site-packages\\sklearn\\cluster\\_kmeans.py:1382: UserWarning: KMeans is known to have a memory leak on Windows with MKL, when there are less chunks than available threads. You can avoid it by setting the environment variable OMP_NUM_THREADS=1.\n",
      "  warnings.warn(\n"
     ]
    },
    {
     "name": "stdout",
     "output_type": "stream",
     "text": [
      "cluster  6  score:  0.7789462745536555\n"
     ]
    },
    {
     "name": "stderr",
     "output_type": "stream",
     "text": [
      "C:\\ProgramData\\anaconda3\\lib\\site-packages\\sklearn\\cluster\\_kmeans.py:870: FutureWarning: The default value of `n_init` will change from 10 to 'auto' in 1.4. Set the value of `n_init` explicitly to suppress the warning\n",
      "  warnings.warn(\n",
      "C:\\ProgramData\\anaconda3\\lib\\site-packages\\sklearn\\cluster\\_kmeans.py:1382: UserWarning: KMeans is known to have a memory leak on Windows with MKL, when there are less chunks than available threads. You can avoid it by setting the environment variable OMP_NUM_THREADS=1.\n",
      "  warnings.warn(\n"
     ]
    },
    {
     "name": "stdout",
     "output_type": "stream",
     "text": [
      "cluster  7  score:  0.7817947546427708\n"
     ]
    },
    {
     "name": "stderr",
     "output_type": "stream",
     "text": [
      "C:\\ProgramData\\anaconda3\\lib\\site-packages\\sklearn\\cluster\\_kmeans.py:870: FutureWarning: The default value of `n_init` will change from 10 to 'auto' in 1.4. Set the value of `n_init` explicitly to suppress the warning\n",
      "  warnings.warn(\n",
      "C:\\ProgramData\\anaconda3\\lib\\site-packages\\sklearn\\cluster\\_kmeans.py:1382: UserWarning: KMeans is known to have a memory leak on Windows with MKL, when there are less chunks than available threads. You can avoid it by setting the environment variable OMP_NUM_THREADS=1.\n",
      "  warnings.warn(\n"
     ]
    },
    {
     "name": "stdout",
     "output_type": "stream",
     "text": [
      "cluster  8  score:  0.7847423623940264\n"
     ]
    },
    {
     "name": "stderr",
     "output_type": "stream",
     "text": [
      "C:\\ProgramData\\anaconda3\\lib\\site-packages\\sklearn\\cluster\\_kmeans.py:870: FutureWarning: The default value of `n_init` will change from 10 to 'auto' in 1.4. Set the value of `n_init` explicitly to suppress the warning\n",
      "  warnings.warn(\n",
      "C:\\ProgramData\\anaconda3\\lib\\site-packages\\sklearn\\cluster\\_kmeans.py:1382: UserWarning: KMeans is known to have a memory leak on Windows with MKL, when there are less chunks than available threads. You can avoid it by setting the environment variable OMP_NUM_THREADS=1.\n",
      "  warnings.warn(\n"
     ]
    },
    {
     "name": "stdout",
     "output_type": "stream",
     "text": [
      "cluster  9  score:  0.6818555400770482\n"
     ]
    },
    {
     "name": "stderr",
     "output_type": "stream",
     "text": [
      "C:\\ProgramData\\anaconda3\\lib\\site-packages\\sklearn\\cluster\\_kmeans.py:870: FutureWarning: The default value of `n_init` will change from 10 to 'auto' in 1.4. Set the value of `n_init` explicitly to suppress the warning\n",
      "  warnings.warn(\n",
      "C:\\ProgramData\\anaconda3\\lib\\site-packages\\sklearn\\cluster\\_kmeans.py:1382: UserWarning: KMeans is known to have a memory leak on Windows with MKL, when there are less chunks than available threads. You can avoid it by setting the environment variable OMP_NUM_THREADS=1.\n",
      "  warnings.warn(\n"
     ]
    },
    {
     "name": "stdout",
     "output_type": "stream",
     "text": [
      "cluster  10  score:  0.6795886784648338\n"
     ]
    }
   ],
   "source": [
    "clust(10)"
   ]
  },
  {
   "cell_type": "code",
   "execution_count": 59,
   "id": "372b5cbf",
   "metadata": {},
   "outputs": [
    {
     "data": {
      "text/plain": [
       "[<matplotlib.lines.Line2D at 0x282d5cdbfd0>]"
      ]
     },
     "execution_count": 59,
     "metadata": {},
     "output_type": "execute_result"
    },
    {
     "data": {
      "image/png": "[encoded data removed]",
      "text/plain": [
       "<Figure size 640x480 with 1 Axes>"
      ]
     },
     "metadata": {},
     "output_type": "display_data"
    }
   ],
   "source": [
    "plt.plot(allclusters,distances)"
   ]
  },
  {
   "cell_type": "code",
   "execution_count": 60,
   "id": "7f4d6c9b",
   "metadata": {},
   "outputs": [],
   "source": [
    "from scipy.cluster.hierarchy import dendrogram, linkage"
   ]
  },
  {
   "cell_type": "code",
   "execution_count": 61,
   "id": "9fd79cc6",
   "metadata": {},
   "outputs": [],
   "source": [
    "link_data = linkage(x, method = \"ward\", metric = \"euclidean\")"
   ]
  },
  {
   "cell_type": "code",
   "execution_count": 62,
   "id": "a168eae7",
   "metadata": {},
   "outputs": [
    {
     "data": {
      "image/png": "[encoded data removed]",
      "text/plain": [
       "<Figure size 640x480 with 1 Axes>"
      ]
     },
     "metadata": {},
     "output_type": "display_data"
    }
   ],
   "source": [
    "dendrogram(link_data)\n",
    "plt.show()"
   ]
  },
  {
   "cell_type": "code",
   "execution_count": null,
   "id": "1038cdf4",
   "metadata": {},
   "outputs": [],
   "source": []
  }
 ],
 "metadata": {
  "kernelspec": {
   "display_name": "Python 3 (ipykernel)",
   "language": "python",
   "name": "python3"
  },
  "language_info": {
   "codemirror_mode": {
    "name": "ipython",
    "version": 3
   },
   "file_extension": ".py",
   "mimetype": "text/x-python",
   "name": "python",
   "nbconvert_exporter": "python",
   "pygments_lexer": "ipython3",
   "version": "3.11.4"
  }
 },
 "nbformat": 4,
 "nbformat_minor": 5
}
